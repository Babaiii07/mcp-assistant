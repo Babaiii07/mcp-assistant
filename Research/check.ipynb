{
 "cells": [
  {
   "cell_type": "code",
   "execution_count": 1,
   "id": "4d4da75a",
   "metadata": {},
   "outputs": [
    {
     "data": {
      "text/plain": [
       "True"
      ]
     },
     "execution_count": 1,
     "metadata": {},
     "output_type": "execute_result"
    }
   ],
   "source": [
    "from langchain_groq import ChatGroq\n",
    "from dotenv import load_dotenv\n",
    "import os\n",
    "load_dotenv()"
   ]
  },
  {
   "cell_type": "code",
   "execution_count": 2,
   "id": "3bdcb9d1",
   "metadata": {},
   "outputs": [],
   "source": [
    "GROQ_API_KEY = os.environ.get('GROQ_API_KEY')\n",
    "os.environ['GROQ_API_KEY'] = GROQ_API_KEY"
   ]
  },
  {
   "cell_type": "code",
   "execution_count": 3,
   "id": "5ebf1542",
   "metadata": {},
   "outputs": [],
   "source": [
    "model = ChatGroq(model='gemma2-9b-it')"
   ]
  },
  {
   "cell_type": "code",
   "execution_count": 5,
   "id": "1dc35578",
   "metadata": {},
   "outputs": [
    {
     "data": {
      "text/plain": [
       "\"Hi Parthib! I'm doing well, thank you.\\n\\nHow can I help you today?\\n\""
      ]
     },
     "execution_count": 5,
     "metadata": {},
     "output_type": "execute_result"
    }
   ],
   "source": [
    "model.invoke(\"Hi I am Parthib,How are you?\").content"
   ]
  },
  {
   "cell_type": "code",
   "execution_count": 6,
   "id": "24afef58",
   "metadata": {},
   "outputs": [
    {
     "ename": "ModuleNotFoundError",
     "evalue": "No module named 'mcp_use'",
     "output_type": "error",
     "traceback": [
      "\u001b[1;31m---------------------------------------------------------------------------\u001b[0m",
      "\u001b[1;31mModuleNotFoundError\u001b[0m                       Traceback (most recent call last)",
      "Cell \u001b[1;32mIn[6], line 1\u001b[0m\n\u001b[1;32m----> 1\u001b[0m \u001b[38;5;28;01mfrom\u001b[39;00m\u001b[38;5;250m \u001b[39m\u001b[38;5;21;01mmcp_use\u001b[39;00m\u001b[38;5;250m \u001b[39m\u001b[38;5;28;01mimport\u001b[39;00m MCPAgent,MCPClient\n",
      "\u001b[1;31mModuleNotFoundError\u001b[0m: No module named 'mcp_use'"
     ]
    }
   ],
   "source": [
    "from mcp_use import MCPAgent,MCPClient"
   ]
  },
  {
   "cell_type": "code",
   "execution_count": 13,
   "id": "f49cc20c",
   "metadata": {},
   "outputs": [],
   "source": [
    "config = {\n",
    "      \"mcpServers\": {\n",
    "        \"playwright\": {\n",
    "          \"command\": \"npx\",\n",
    "          \"args\": [\"@playwright/mcp@latest\"],\n",
    "          \"env\": {\n",
    "            \"DISPLAY\": \":1\"\n",
    "          }\n",
    "        }\n",
    "      }\n",
    "    }"
   ]
  },
  {
   "cell_type": "code",
   "execution_count": null,
   "id": "2ba29840",
   "metadata": {},
   "outputs": [],
   "source": []
  }
 ],
 "metadata": {
  "kernelspec": {
   "display_name": "Python 3",
   "language": "python",
   "name": "python3"
  },
  "language_info": {
   "codemirror_mode": {
    "name": "ipython",
    "version": 3
   },
   "file_extension": ".py",
   "mimetype": "text/x-python",
   "name": "python",
   "nbconvert_exporter": "python",
   "pygments_lexer": "ipython3",
   "version": "3.10.0"
  }
 },
 "nbformat": 4,
 "nbformat_minor": 5
}
